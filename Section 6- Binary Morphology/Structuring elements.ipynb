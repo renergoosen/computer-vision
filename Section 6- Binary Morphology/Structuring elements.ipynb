{
 "cells": [
  {
   "cell_type": "markdown",
   "id": "87fcd005-7df4-4b7c-9db4-07c4e7e7fb99",
   "metadata": {},
   "source": [
    "## Structuring element/kernel slides over the image and can take different shapes built in opencv and can fit the shape in 3 different ways"
   ]
  },
  {
   "cell_type": "code",
   "execution_count": 4,
   "id": "1f1616e1-a0f1-4a41-abe2-ae3bdc734144",
   "metadata": {},
   "outputs": [],
   "source": [
    "import cv2\n",
    "import numpy as np\n",
    "import matplotlib.pyplot as plt"
   ]
  },
  {
   "cell_type": "code",
   "execution_count": 5,
   "id": "89715374-ce5f-454a-be2d-c18001a2bfb2",
   "metadata": {},
   "outputs": [],
   "source": [
    "K_r = cv2.getStructuringElement(cv2.MORPH_RECT,(5,5)) # rectangular kernel with 5 x 5 dimensions"
   ]
  },
  {
   "cell_type": "code",
   "execution_count": 6,
   "id": "f553aaf9-ca5e-4bdc-9bd3-c3744f9be75e",
   "metadata": {},
   "outputs": [
    {
     "data": {
      "text/plain": [
       "numpy.ndarray"
      ]
     },
     "execution_count": 6,
     "metadata": {},
     "output_type": "execute_result"
    }
   ],
   "source": [
    "type(K_r)"
   ]
  },
  {
   "cell_type": "code",
   "execution_count": 7,
   "id": "578b4742-a615-430f-9b5c-d2adc8f009ed",
   "metadata": {},
   "outputs": [
    {
     "data": {
      "text/plain": [
       "dtype('uint8')"
      ]
     },
     "execution_count": 7,
     "metadata": {},
     "output_type": "execute_result"
    }
   ],
   "source": [
    "K_r.dtype"
   ]
  },
  {
   "cell_type": "code",
   "execution_count": 12,
   "id": "ed280351-efff-4885-b520-9a6f1b3409ac",
   "metadata": {},
   "outputs": [
    {
     "data": {
      "text/plain": [
       "array([[1, 1, 1, 1, 1],\n",
       "       [1, 1, 1, 1, 1],\n",
       "       [1, 1, 1, 1, 1],\n",
       "       [1, 1, 1, 1, 1],\n",
       "       [1, 1, 1, 1, 1]], dtype=uint8)"
      ]
     },
     "execution_count": 12,
     "metadata": {},
     "output_type": "execute_result"
    }
   ],
   "source": [
    "K_r"
   ]
  },
  {
   "cell_type": "code",
   "execution_count": 22,
   "id": "80dcf476-a385-4006-acdc-acc49386005b",
   "metadata": {},
   "outputs": [],
   "source": [
    "K_e = cv2.getStructuringElement(cv2.MORPH_ELLIPSE,(10,10)) # ellipse"
   ]
  },
  {
   "cell_type": "code",
   "execution_count": 24,
   "id": "b1e3c65f-0ea0-4b40-b668-74ef3dc4de36",
   "metadata": {},
   "outputs": [
    {
     "data": {
      "text/plain": [
       "array([[0, 0, 0, 0, 0, 1, 0, 0, 0, 0],\n",
       "       [0, 0, 1, 1, 1, 1, 1, 1, 1, 0],\n",
       "       [0, 1, 1, 1, 1, 1, 1, 1, 1, 1],\n",
       "       [1, 1, 1, 1, 1, 1, 1, 1, 1, 1],\n",
       "       [1, 1, 1, 1, 1, 1, 1, 1, 1, 1],\n",
       "       [1, 1, 1, 1, 1, 1, 1, 1, 1, 1],\n",
       "       [1, 1, 1, 1, 1, 1, 1, 1, 1, 1],\n",
       "       [1, 1, 1, 1, 1, 1, 1, 1, 1, 1],\n",
       "       [0, 1, 1, 1, 1, 1, 1, 1, 1, 1],\n",
       "       [0, 0, 1, 1, 1, 1, 1, 1, 1, 0]], dtype=uint8)"
      ]
     },
     "execution_count": 24,
     "metadata": {},
     "output_type": "execute_result"
    }
   ],
   "source": [
    "K_e"
   ]
  },
  {
   "cell_type": "code",
   "execution_count": 26,
   "id": "81987396-e8fa-477a-8fca-476e83c47fed",
   "metadata": {},
   "outputs": [],
   "source": [
    "K_c = cv2.getStructuringElement(cv2.MORPH_CROSS,(5,5)) # cross"
   ]
  },
  {
   "cell_type": "code",
   "execution_count": 28,
   "id": "0eb4d986-034a-499a-a74c-25ed271045a6",
   "metadata": {},
   "outputs": [
    {
     "data": {
      "text/plain": [
       "array([[0, 0, 1, 0, 0],\n",
       "       [0, 0, 1, 0, 0],\n",
       "       [1, 1, 1, 1, 1],\n",
       "       [0, 0, 1, 0, 0],\n",
       "       [0, 0, 1, 0, 0]], dtype=uint8)"
      ]
     },
     "execution_count": 28,
     "metadata": {},
     "output_type": "execute_result"
    }
   ],
   "source": [
    "K_c"
   ]
  },
  {
   "cell_type": "code",
   "execution_count": null,
   "id": "3e0d1743-be72-4b3d-b348-44490b24b25c",
   "metadata": {},
   "outputs": [],
   "source": []
  }
 ],
 "metadata": {
  "kernelspec": {
   "display_name": "Python 3 (ipykernel)",
   "language": "python",
   "name": "python3"
  },
  "language_info": {
   "codemirror_mode": {
    "name": "ipython",
    "version": 3
   },
   "file_extension": ".py",
   "mimetype": "text/x-python",
   "name": "python",
   "nbconvert_exporter": "python",
   "pygments_lexer": "ipython3",
   "version": "3.12.4"
  }
 },
 "nbformat": 4,
 "nbformat_minor": 5
}
