{
 "cells": [
  {
   "cell_type": "markdown",
   "id": "abb088d6-b4d3-4830-a634-1441277e70ac",
   "metadata": {},
   "source": [
    "# Rotation matrices have determinant 1"
   ]
  },
  {
   "cell_type": "code",
   "execution_count": 1,
   "id": "f9480b61-90be-425d-a768-ac09a2891d9a",
   "metadata": {},
   "outputs": [],
   "source": [
    "import numpy as np\n",
    "import matplotlib.pyplot as plt\n",
    "import cv2"
   ]
  },
  {
   "cell_type": "code",
   "execution_count": 2,
   "id": "96ba27f0-4aa7-4bad-9ccd-8611abd92922",
   "metadata": {},
   "outputs": [],
   "source": [
    "a = 30\n",
    "cosa = np.cos(np.deg2rad(a))\n",
    "sina = np.sin(np.deg2rad(a))\n",
    "R = np.array([[cosa,-sina],[sina,cosa]])"
   ]
  },
  {
   "cell_type": "code",
   "execution_count": 5,
   "id": "0a11b390-9929-4085-9dce-2834f0d90e09",
   "metadata": {},
   "outputs": [
    {
     "data": {
      "text/plain": [
       "1.0"
      ]
     },
     "execution_count": 5,
     "metadata": {},
     "output_type": "execute_result"
    }
   ],
   "source": [
    "np.linalg.det(R)"
   ]
  },
  {
   "cell_type": "markdown",
   "id": "4c9acc20-bf6b-4b91-b67e-8951565ab37f",
   "metadata": {},
   "source": [
    "### Rotation matrices inverse is their transpose"
   ]
  },
  {
   "cell_type": "code",
   "execution_count": 9,
   "id": "9b7fed67-ccbb-4351-bb33-43168312ef20",
   "metadata": {},
   "outputs": [
    {
     "data": {
      "text/plain": [
       "array([[ 0.8660254,  0.5      ],\n",
       "       [-0.5      ,  0.8660254]])"
      ]
     },
     "execution_count": 9,
     "metadata": {},
     "output_type": "execute_result"
    }
   ],
   "source": [
    "np.linalg.inv(R)"
   ]
  },
  {
   "cell_type": "code",
   "execution_count": 11,
   "id": "07e8ce8b-6707-481e-97ad-f5473cf96804",
   "metadata": {},
   "outputs": [
    {
     "data": {
      "text/plain": [
       "array([[ 0.8660254,  0.5      ],\n",
       "       [-0.5      ,  0.8660254]])"
      ]
     },
     "execution_count": 11,
     "metadata": {},
     "output_type": "execute_result"
    }
   ],
   "source": [
    "R.T"
   ]
  },
  {
   "cell_type": "markdown",
   "id": "898d9f1d-56d0-4efa-8e0d-0753e94f84d7",
   "metadata": {},
   "source": [
    "# if you swap any row or colum of the rotation matrix, it stays orthogonal but its determinant changes and so the matrix becomes a reflection"
   ]
  },
  {
   "cell_type": "code",
   "execution_count": 15,
   "id": "cf783d0a-7121-484d-bc9d-5315d75db4c5",
   "metadata": {},
   "outputs": [
    {
     "data": {
      "text/plain": [
       "-1.0"
      ]
     },
     "execution_count": 15,
     "metadata": {},
     "output_type": "execute_result"
    }
   ],
   "source": [
    "Rf = R[[1,0],:] # take first row ad all colums\n",
    "np.linalg.det(Rf)"
   ]
  },
  {
   "cell_type": "code",
   "execution_count": 17,
   "id": "7f8d5614-44c7-42fd-8353-d80f22961c44",
   "metadata": {},
   "outputs": [
    {
     "data": {
      "text/plain": [
       "array([[ 0.5      ,  0.8660254],\n",
       "       [ 0.8660254, -0.5      ]])"
      ]
     },
     "execution_count": 17,
     "metadata": {},
     "output_type": "execute_result"
    }
   ],
   "source": [
    "Rf.T"
   ]
  },
  {
   "cell_type": "code",
   "execution_count": 19,
   "id": "73628eee-8f59-4e3d-85ce-c0d1d9a773a6",
   "metadata": {},
   "outputs": [
    {
     "data": {
      "text/plain": [
       "array([[ 0.5      ,  0.8660254],\n",
       "       [ 0.8660254, -0.5      ]])"
      ]
     },
     "execution_count": 19,
     "metadata": {},
     "output_type": "execute_result"
    }
   ],
   "source": [
    "np.linalg.inv(Rf)"
   ]
  },
  {
   "cell_type": "markdown",
   "id": "c3ec702d-bec9-4dc4-beaa-99c84aa8132d",
   "metadata": {},
   "source": [
    "# converting a transformation matrix into affine form"
   ]
  },
  {
   "cell_type": "code",
   "execution_count": 22,
   "id": "5e4d86fe-d803-4d8e-b32e-05d5c0ab98d9",
   "metadata": {},
   "outputs": [
    {
     "data": {
      "text/plain": [
       "array([[ 0.5      ,  0.8660254,  0.       ],\n",
       "       [ 0.8660254, -0.5      ,  0.       ],\n",
       "       [ 0.       ,  0.       ,  1.       ]])"
      ]
     },
     "execution_count": 22,
     "metadata": {},
     "output_type": "execute_result"
    }
   ],
   "source": [
    "A = np.array([[Rf[0,0],Rf[0,1],0],[Rf[1,0],Rf[1,1],0],[0,0,1]])\n",
    "A"
   ]
  },
  {
   "cell_type": "code",
   "execution_count": null,
   "id": "396de044-7883-4553-97f8-8cb90a72e5e7",
   "metadata": {},
   "outputs": [],
   "source": []
  }
 ],
 "metadata": {
  "kernelspec": {
   "display_name": "Python 3 (ipykernel)",
   "language": "python",
   "name": "python3"
  },
  "language_info": {
   "codemirror_mode": {
    "name": "ipython",
    "version": 3
   },
   "file_extension": ".py",
   "mimetype": "text/x-python",
   "name": "python",
   "nbconvert_exporter": "python",
   "pygments_lexer": "ipython3",
   "version": "3.12.4"
  }
 },
 "nbformat": 4,
 "nbformat_minor": 5
}
